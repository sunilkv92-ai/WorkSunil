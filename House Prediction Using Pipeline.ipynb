{
 "cells": [
  {
   "cell_type": "code",
   "execution_count": 4,
   "id": "4a89b76f",
   "metadata": {},
   "outputs": [
    {
     "ename": "IndentationError",
     "evalue": "unexpected indent (3524910854.py, line 12)",
     "output_type": "error",
     "traceback": [
      "\u001b[0;36m  File \u001b[0;32m\"/var/folders/b8/7w_bdm316q16k4kjw1878j8w0000gn/T/ipykernel_1337/3524910854.py\"\u001b[0;36m, line \u001b[0;32m12\u001b[0m\n\u001b[0;31m    data = pd.read_csv('housing.csv')\u001b[0m\n\u001b[0m    ^\u001b[0m\n\u001b[0;31mIndentationError\u001b[0m\u001b[0;31m:\u001b[0m unexpected indent\n"
     ]
    }
   ],
   "source": [
    "import numpy as np\n",
    "import pandas as pd\n",
    "from sklearn.model_selection import train_test_split, GridSearchCV\n",
    "from sklearn.preprocessing import StandardScaler\n",
    "from sklearn.pipeline import Pipeline\n",
    "from sklearn.metrics import mean_squared_error, r2_score\n",
    "from sklearn.linear_model import LinearRegression\n",
    "from sklearn.ensemble import RandomForestRegressor\n",
    "from xgboost import XGBRegressor\n",
    "\n",
    "# Load your data (assuming you have your data in a pandas DataFrame)\n",
    " data = pd.read_csv('housing.csv') \n",
    "  X = data.drop('target_column', axis=1)\n",
    "  y = data['target_column']\n",
    "\n",
    "# Split the data into training and testing sets\n",
    "X_train, X_test, y_train, y_test = train_test_split(X, y, test_size=0.2, random_state=42)\n",
    "\n",
    "# Define pipelines for different models\n",
    "pipeline_lr = Pipeline([\n",
    "    ('scaler', StandardScaler()),  # Feature scaling\n",
    "    ('lr', LinearRegression())  # Linear regression\n",
    "])\n",
    "\n",
    "pipeline_rf = Pipeline([\n",
    "    ('scaler', StandardScaler()),  # Feature scaling\n",
    "    ('rf', RandomForestRegressor(random_state=42))  # Random Forest\n",
    "])\n",
    "\n",
    "pipeline_xgb = Pipeline([\n",
    "    ('scaler', StandardScaler()),  # Feature scaling\n",
    "    ('xgb', XGBRegressor(random_state=42))  # XGBoost regressor\n",
    "])\n",
    "\n",
    "# Define the parameter grid for GridSearchCV for all models\n",
    "param_grid = [\n",
    "    {\n",
    "        'lr': [LinearRegression()]  # No hyperparameters to tune for linear regression\n",
    "    },\n",
    "    {\n",
    "        'rf__n_estimators': [100, 200],\n",
    "        'rf__max_depth': [5, 10, 15],\n",
    "        'rf__min_samples_split': [2, 5, 10],\n",
    "        'rf__min_samples_leaf': [1, 2, 4]\n",
    "    },\n",
    "    {\n",
    "        'xgb__n_estimators': [100, 200],\n",
    "        'xgb__max_depth': [3, 5, 7],\n",
    "        'xgb__learning_rate': [0.01, 0.1, 0.2],\n",
    "        'xgb__subsample': [0.8, 1.0]\n",
    "    }\n",
    "]\n",
    "\n",
    "# Create a list of all pipelines\n",
    "pipelines = [('Linear Regression', pipeline_lr),\n",
    "             ('Random Forest', pipeline_rf),\n",
    "             ('XGBoost', pipeline_xgb)]\n",
    "\n",
    "# Perform GridSearchCV for each pipeline\n",
    "best_models = {}\n",
    "for name, pipeline in pipelines:\n",
    "    grid_search = GridSearchCV(estimator=pipeline, param_grid=param_grid, cv=3, scoring='neg_mean_squared_error')\n",
    "    grid_search.fit(X_train, y_train)\n",
    "    best_models[name] = grid_search\n",
    "\n",
    "# Now evaluate each model\n",
    "for name, model in best_models.items():\n",
    "    print(f\"Best parameters for {name}: {model.best_params_}\")\n",
    "    y_pred = model.predict(X_test)\n",
    "    mse = mean_squared_error(y_test, y_pred)\n",
    "    r2 = r2_score(y_test, y_pred)\n",
    "    print(f\"{name} - Mean Squared Error: {mse}\")\n",
    "    print(f\"{name} - R^2 Score: {r2}\")\n",
    "    print(\"-\" * 40)\n"
   ]
  },
  {
   "cell_type": "code",
   "execution_count": null,
   "id": "b497e025",
   "metadata": {},
   "outputs": [],
   "source": []
  }
 ],
 "metadata": {
  "kernelspec": {
   "display_name": "Python 3 (ipykernel)",
   "language": "python",
   "name": "python3"
  },
  "language_info": {
   "codemirror_mode": {
    "name": "ipython",
    "version": 3
   },
   "file_extension": ".py",
   "mimetype": "text/x-python",
   "name": "python",
   "nbconvert_exporter": "python",
   "pygments_lexer": "ipython3",
   "version": "3.9.7"
  }
 },
 "nbformat": 4,
 "nbformat_minor": 5
}
