{
 "cells": [
  {
   "cell_type": "markdown",
   "id": "c5aa555e",
   "metadata": {},
   "source": [
    "## Aircraft Elevators"
   ]
  },
  {
   "cell_type": "code",
   "execution_count": 7,
   "id": "3a3187ef",
   "metadata": {},
   "outputs": [],
   "source": [
    "\n",
    "import arff\n",
    "import pandas as pd\n",
    "from sklearn.model_selection import train_test_split\n",
    "from sklearn.linear_model import LinearRegression\n",
    "from sklearn.metrics import mean_squared_error, r2_score\n",
    "with open('dataset_2202_elevators.arff', 'r') as file:\n",
    "    dataset = arff.load(file)\n",
    "data = pd.DataFrame(dataset['data'], columns=[attribute[0] for attribute in dataset['attributes']])\n"
   ]
  },
  {
   "cell_type": "code",
   "execution_count": 8,
   "id": "529b41f1",
   "metadata": {},
   "outputs": [
    {
     "name": "stdout",
     "output_type": "stream",
     "text": [
      "   climbRate   Sgz     p     q  curRoll  absRoll  diffClb  diffRollRate  \\\n",
      "0      118.0 -55.0 -0.28 -0.08     -0.2    -11.0     11.0         0.005   \n",
      "1      390.0 -45.0 -0.06 -0.07     -0.6    -12.0     11.0         0.010   \n",
      "2       68.0   6.0  0.11  0.15      0.6    -10.0     -9.0        -0.003   \n",
      "3     -358.0 -12.0 -0.20  0.13     -0.3    -11.0     -7.0         0.001   \n",
      "4     -411.0 -19.0 -0.18  0.02     -0.5    -11.0     -3.0         0.002   \n",
      "\n",
      "   diffDiffClb  SaTime1  SaTime2  SaTime3  SaTime4  diffSaTime1  diffSaTime2  \\\n",
      "0         -0.2  -0.0010  -0.0010  -0.0010  -0.0010       0.0000          0.0   \n",
      "1         -0.2  -0.0008  -0.0008  -0.0008  -0.0008       0.0000          0.0   \n",
      "2         -0.2  -0.0011  -0.0010  -0.0010  -0.0010      -0.0002          0.0   \n",
      "3         -0.1  -0.0010  -0.0010  -0.0010  -0.0010       0.0000          0.0   \n",
      "4          1.2  -0.0010  -0.0010  -0.0010  -0.0010       0.0000          0.0   \n",
      "\n",
      "   diffSaTime3  diffSaTime4      Sa   Goal  \n",
      "0          0.0          0.0 -0.0010  0.031  \n",
      "1          0.0          0.0 -0.0008  0.034  \n",
      "2          0.0          0.0 -0.0010  0.033  \n",
      "3          0.0          0.0 -0.0010  0.032  \n",
      "4          0.0          0.0 -0.0010  0.030  \n"
     ]
    }
   ],
   "source": [
    "print(data.head())\n"
   ]
  },
  {
   "cell_type": "code",
   "execution_count": 9,
   "id": "e4903259",
   "metadata": {},
   "outputs": [
    {
     "name": "stdout",
     "output_type": "stream",
     "text": [
      "       climbRate   Sgz     p     q  curRoll  absRoll  diffClb  diffRollRate  \\\n",
      "16594      299.0 -28.0  0.08 -0.12     -0.3     -9.0     15.0         0.010   \n",
      "16595       84.0   0.0  0.14  0.14      1.1     -8.0    -11.0        -0.014   \n",
      "16596     -208.0  -6.0 -0.48  0.09      0.2     -9.0     -7.0        -0.010   \n",
      "16597     -146.0 -14.0 -0.38 -0.03     -0.8    -10.0     10.0         0.010   \n",
      "16598      282.0 -11.0  0.10 -0.12     -1.2    -10.0     16.0         0.016   \n",
      "\n",
      "       diffDiffClb  SaTime1  SaTime2  SaTime3  SaTime4  diffSaTime1  \\\n",
      "16594         -0.2  -0.0005  -0.0005  -0.0005  -0.0005          0.0   \n",
      "16595         -0.6  -0.0009  -0.0009  -0.0009  -0.0009          0.0   \n",
      "16596         -0.1  -0.0009  -0.0009  -0.0009  -0.0009          0.0   \n",
      "16597         -1.0  -0.0005  -0.0005  -0.0005  -0.0005          0.0   \n",
      "16598         -0.1  -0.0004  -0.0004  -0.0004  -0.0004          0.0   \n",
      "\n",
      "       diffSaTime2  diffSaTime3  diffSaTime4      Sa   Goal  \n",
      "16594          0.0          0.0          0.0 -0.0005  0.027  \n",
      "16595          0.0          0.0          0.0 -0.0009  0.026  \n",
      "16596          0.0          0.0          0.0 -0.0009  0.023  \n",
      "16597          0.0          0.0          0.0 -0.0005  0.022  \n",
      "16598          0.0          0.0          0.0 -0.0004  0.023  \n"
     ]
    }
   ],
   "source": [
    "print(data.tail())"
   ]
  },
  {
   "cell_type": "code",
   "execution_count": 12,
   "id": "40154bfa",
   "metadata": {},
   "outputs": [
    {
     "name": "stdout",
     "output_type": "stream",
     "text": [
      "Mean Squared Error (MSE): 7.903213809993626e-06\n",
      "R-squared (R²): 0.8139810341327395\n"
     ]
    }
   ],
   "source": [
    "import arff\n",
    "import pandas as pd\n",
    "\n",
    "X = data.iloc[:, :-1]  # Features (all columns except the last)\n",
    "y = data.iloc[:, -1]   # Target (the last column)\n",
    "\n",
    "X_train, X_test, y_train, y_test = train_test_split(X, y, test_size=0.2, random_state=42)\n",
    "model = LinearRegression()\n",
    "model.fit(X_train, y_train)\n",
    "y_pred = model.predict(X_test)\n",
    "mse = mean_squared_error(y_test, y_pred)  # Mean Squared Error\n",
    "r2 = r2_score(y_test, y_pred)  # R^2 Score\n",
    "\n",
    "print(f\"Mean Squared Error (MSE): {mse}\")\n",
    "print(f\"R-squared (R²): {r2}\")\n",
    "\n"
   ]
  },
  {
   "cell_type": "code",
   "execution_count": 13,
   "id": "df933aaf",
   "metadata": {},
   "outputs": [
    {
     "name": "stdout",
     "output_type": "stream",
     "text": [
      "Requirement already satisfied: scikit-learn in /opt/anaconda3/lib/python3.9/site-packages (0.24.2)\n",
      "Requirement already satisfied: pandas in /opt/anaconda3/lib/python3.9/site-packages (1.3.4)\n",
      "Requirement already satisfied: liac-arff in /opt/anaconda3/lib/python3.9/site-packages (2.5.0)\n",
      "Requirement already satisfied: scipy>=0.19.1 in /opt/anaconda3/lib/python3.9/site-packages (from scikit-learn) (1.7.1)\n",
      "Requirement already satisfied: numpy>=1.13.3 in /opt/anaconda3/lib/python3.9/site-packages (from scikit-learn) (1.22.4)\n",
      "Requirement already satisfied: joblib>=0.11 in /opt/anaconda3/lib/python3.9/site-packages (from scikit-learn) (1.1.0)\n",
      "Requirement already satisfied: threadpoolctl>=2.0.0 in /opt/anaconda3/lib/python3.9/site-packages (from scikit-learn) (2.2.0)\n",
      "Requirement already satisfied: python-dateutil>=2.7.3 in /opt/anaconda3/lib/python3.9/site-packages (from pandas) (2.8.2)\n",
      "Requirement already satisfied: pytz>=2017.3 in /opt/anaconda3/lib/python3.9/site-packages (from pandas) (2021.3)\n",
      "Requirement already satisfied: six>=1.5 in /opt/anaconda3/lib/python3.9/site-packages (from python-dateutil>=2.7.3->pandas) (1.16.0)\n",
      "Note: you may need to restart the kernel to use updated packages.\n"
     ]
    }
   ],
   "source": [
    "pip install scikit-learn pandas liac-arff"
   ]
  },
  {
   "cell_type": "code",
   "execution_count": 17,
   "id": "cc7371bc",
   "metadata": {},
   "outputs": [
    {
     "name": "stdout",
     "output_type": "stream",
     "text": [
      "Mean Squared Error (MSE): 7.903213809993597e-06\n",
      "R-squared (R²): 0.8139810341327401\n"
     ]
    }
   ],
   "source": [
    "\n",
    "from sklearn.preprocessing import StandardScaler\n",
    "\n",
    "scaler = StandardScaler()\n",
    "X_train_scaled = scaler.fit_transform(X_train)\n",
    "X_test_scaled = scaler.transform(X_test)\n",
    "model = LinearRegression()\n",
    "model.fit(X_train_scaled, y_train)\n",
    "\n",
    "y_pred = model.predict(X_test_scaled)\n",
    "\n",
    "mse = mean_squared_error(y_test, y_pred)  \n",
    "r2 = r2_score(y_test, y_pred)  \n",
    "\n",
    "\n",
    "print(f\"Mean Squared Error (MSE): {mse}\")\n",
    "print(f\"R-squared (R²): {r2}\")\n"
   ]
  },
  {
   "cell_type": "code",
   "execution_count": null,
   "id": "5489bf85",
   "metadata": {},
   "outputs": [],
   "source": []
  }
 ],
 "metadata": {
  "kernelspec": {
   "display_name": "Python 3 (ipykernel)",
   "language": "python",
   "name": "python3"
  },
  "language_info": {
   "codemirror_mode": {
    "name": "ipython",
    "version": 3
   },
   "file_extension": ".py",
   "mimetype": "text/x-python",
   "name": "python",
   "nbconvert_exporter": "python",
   "pygments_lexer": "ipython3",
   "version": "3.9.7"
  }
 },
 "nbformat": 4,
 "nbformat_minor": 5
}
